{
 "cells": [
  {
   "cell_type": "code",
   "execution_count": null,
   "metadata": {},
   "outputs": [],
   "source": [
    "#!pip install lxml\n",
    "!pip install cv2"
   ]
  },
  {
   "cell_type": "code",
   "execution_count": 5,
   "metadata": {},
   "outputs": [
    {
     "ename": "ModuleNotFoundError",
     "evalue": "No module named 'cv2'",
     "output_type": "error",
     "traceback": [
      "\u001b[0;31m\u001b[0m",
      "\u001b[0;31mModuleNotFoundError\u001b[0mTraceback (most recent call last)",
      "\u001b[0;32m<ipython-input-5-90228534a7ea>\u001b[0m in \u001b[0;36m<module>\u001b[0;34m\u001b[0m\n\u001b[1;32m      1\u001b[0m \u001b[0;32mfrom\u001b[0m \u001b[0mlxml\u001b[0m \u001b[0;32mimport\u001b[0m \u001b[0metree\u001b[0m\u001b[0;34m\u001b[0m\u001b[0;34m\u001b[0m\u001b[0m\n\u001b[0;32m----> 2\u001b[0;31m \u001b[0;32mimport\u001b[0m \u001b[0mcv2\u001b[0m\u001b[0;34m\u001b[0m\u001b[0;34m\u001b[0m\u001b[0m\n\u001b[0m\u001b[1;32m      3\u001b[0m \u001b[0;32mfrom\u001b[0m \u001b[0mglob\u001b[0m \u001b[0;32mimport\u001b[0m \u001b[0mglob\u001b[0m\u001b[0;34m\u001b[0m\u001b[0;34m\u001b[0m\u001b[0m\n\u001b[1;32m      4\u001b[0m \u001b[0;32mimport\u001b[0m \u001b[0mre\u001b[0m\u001b[0;34m\u001b[0m\u001b[0;34m\u001b[0m\u001b[0m\n\u001b[1;32m      5\u001b[0m \u001b[0;34m\u001b[0m\u001b[0m\n",
      "\u001b[0;31mModuleNotFoundError\u001b[0m: No module named 'cv2'"
     ]
    }
   ],
   "source": [
    "from lxml import etree\n",
    "import cv2\n",
    "from glob import glob\n",
    "import re\n",
    "\n",
    "#CAR_BRANDS_PATH = 'training/test/'\n",
    "CAR_BRANDS_PATH = 'good/'\n",
    "classes = {'insulator': 0, 'defected':1,'gap':2,'offset':3 }\n",
    "\n",
    "def extract_txt(img_path, xml_path, txt_path):\n",
    "    img = cv2.imread(img_path)\n",
    "    W = img.shape[1]\n",
    "    H = img.shape[0]\n",
    "    tree = etree.parse(xml_path)\n",
    "\n",
    "    root = tree.getroot()\n",
    "    with open(txt_path, 'w') as f:\n",
    "        for child in root:\n",
    "            if child.tag == 'object':\n",
    "                for object_child in child:\n",
    "                    coords = []\n",
    "                    if object_child.tag == 'name':\n",
    "                        f.write(str(classes.get(object_child.text))+' ')\n",
    "                    if object_child.tag == 'bndbox':\n",
    "                        for bbox_child in object_child:\n",
    "                            coords.append(int(bbox_child.text))\n",
    "                        xmin = coords[0]\n",
    "                        xmax = coords[2]\n",
    "                        ymin = coords[1]\n",
    "                        ymax = coords[3]\n",
    "\n",
    "                        w = (xmax - xmin) / W\n",
    "                        h = (ymax - ymin) / H\n",
    "                        xc = (xmin + (xmax - xmin) / 2) / W\n",
    "                        yc = (ymin + (ymax - ymin) / 2) / H\n",
    "\n",
    "                        f.write(str(xc)+' '+str(yc)+' '+str(w)+' '+str(h)+'\\n')\n",
    "\n",
    "\n",
    "xmls = sorted(glob(CAR_BRANDS_PATH + '*.xml'))\n",
    "\n",
    "\n",
    "for xml_path in xmls:\n",
    "    img_path = re.findall('[A-Za-z0-9_/]+', xml_path)[0]+'.jpg'\n",
    "    txt_path = re.findall('[A-Za-z0-9_/]+', img_path)[0]+'.txt'\n",
    "    extract_txt(img_path, xml_path, txt_path)"
   ]
  },
  {
   "cell_type": "code",
   "execution_count": null,
   "metadata": {},
   "outputs": [],
   "source": [
    "'''def resize(folder):\n",
    "    files = glob(folder + '*.jpg')\n",
    "    for file in files:\n",
    "        img = cv2.imread(file)\n",
    "        img = cv2.resize(img, (416, 416))\n",
    "        cv2.imwrite(file, img)\n",
    "        \n",
    "resize('training/train/')      \n",
    "resize('training/test/')     '''  "
   ]
  }
 ],
 "metadata": {
  "kernelspec": {
   "display_name": "Python 3",
   "language": "python",
   "name": "python3"
  },
  "language_info": {
   "codemirror_mode": {
    "name": "ipython",
    "version": 3
   },
   "file_extension": ".py",
   "mimetype": "text/x-python",
   "name": "python",
   "nbconvert_exporter": "python",
   "pygments_lexer": "ipython3",
   "version": "3.6.9"
  }
 },
 "nbformat": 4,
 "nbformat_minor": 4
}
